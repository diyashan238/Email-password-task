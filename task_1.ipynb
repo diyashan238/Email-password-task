{
  "nbformat": 4,
  "nbformat_minor": 0,
  "metadata": {
    "colab": {
      "name": "task 1.ipynb",
      "provenance": []
    },
    "kernelspec": {
      "name": "python3",
      "display_name": "Python 3"
    },
    "language_info": {
      "name": "python"
    }
  },
  "cells": [
    {
      "cell_type": "code",
      "execution_count": null,
      "metadata": {
        "id": "huqFaqyclhhO"
      },
      "outputs": [],
      "source": [
        "def cred():\n",
        "    splchar= \"!@#$%^&*()_+={}\\[]|/;'\"\",.<>?\"\n",
        "    locase='abcdefghijklmnopqrstuvwxyz'\n",
        "    upcase='ABCDEFGHIJKLMNOPQRSTUVWXYZ'\n",
        "    num=\"0123456789\"\n",
        "    k=l=0\n",
        "    #id format\n",
        "    if id[0] in splchar or id[0] in num:\n",
        "            exit(\"id should not start with special character or a number\")\n",
        "    if '@' in id:\n",
        "        id1 = id.split('@')\n",
        "        if id1[1] != 'gmail.com' and id1[1] != 'yahoo.in':\n",
        "            exit(\" id is not in required format\")\n",
        "    else:\n",
        "        exit(\"Id is not in required format.\")\n",
        "           \n",
        "           \n",
        "            #password format\n",
        "    print(\"REGISTER TO LOGIN:\")\n",
        "    pword = input(\"Enter the password : \")\n",
        "    print(\"Minimum and Maximum length of password is 5 ,16\\n \"\n",
        "          \"Password must have 1 upper case,1 lowercas,1 digit ,1 special character \")\n",
        "    if len(pword)< 5 : exit(\"Password too small\")\n",
        "    elif len(pword)>16:exit(\"Password too long\")\n",
        "    def forconditions(a,b,c):\n",
        "            k=0\n",
        "            for i in a:\n",
        "                if i in b:\n",
        "                    k+=1\n",
        "                if k == 0:\n",
        "                    exit(f\" no {c} found\")\n",
        "    forconditions(pword,splchar,'special_character')\n",
        "    forconditions(pword,num,'number')\n",
        "    forconditions(pword,locase,'lower_case letter')\n",
        "    forconditions(pword,upcase,'uppercase letter')\n",
        "    user=id+\" \"+pword+\"\\n\"\n",
        "    file1=open(\"logins_database.txt\",\"a\")\n",
        "    file1.write(user)\n",
        "    file1.close()\n",
        "    print(\"Run again for access\")\n",
        "print(\"email format: user_name@gmail.com or user_name@yahoo.in \")\n",
        "id=input(\"Enter the email id/user name:\\n \")\n",
        "file2=open(\"logins_database.txt\",\"r\")\n",
        "readfile=file2.read()\n",
        "if id in readfile:\n",
        "    print(\"Enter the password or Enter 2 to access forget password\")\n",
        "    psword=input()\n",
        "    with open(\"logins_database.txt\",\"r\") as f:\n",
        "        for line in f:\n",
        "            userArray=line.strip().split()\n",
        "            if (userArray[0]==id):\n",
        "                if psword== userArray[1]:\n",
        "                    print(\"Access granted\")\n",
        "                elif psword==\"2\":\n",
        "                    print(\"Password :\",userArray[1])\n",
        "                else:\n",
        "                    print(\"Incorrect password\")\n",
        "                    print(\"Enter 2 to access forget\")\n"
      ]
    },
    {
      "cell_type": "markdown",
      "source": [
        ""
      ],
      "metadata": {
        "id": "Y6MagAmsOAaU"
      }
    }
  ]
}